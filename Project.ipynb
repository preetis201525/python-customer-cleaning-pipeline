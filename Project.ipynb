{
 "cells": [
  {
   "cell_type": "code",
   "execution_count": 33,
   "id": "78922f58",
   "metadata": {},
   "outputs": [
    {
     "name": "stdout",
     "output_type": "stream",
     "text": [
      "<class 'pandas.core.frame.DataFrame'>\n",
      "RangeIndex: 5 entries, 0 to 4\n",
      "Data columns (total 6 columns):\n",
      " #   Column         Non-Null Count  Dtype  \n",
      "---  ------         --------------  -----  \n",
      " 0   CustomerID     5 non-null      int64  \n",
      " 1   CustomerName   5 non-null      object \n",
      " 2   Email Address  5 non-null      object \n",
      " 3   Phone Number   5 non-null      object \n",
      " 4   Address        5 non-null      object \n",
      " 5   Age            4 non-null      float64\n",
      "dtypes: float64(1), int64(1), object(4)\n",
      "memory usage: 372.0+ bytes\n"
     ]
    }
   ],
   "source": [
    "import pandas as pd\n",
    "\n",
    "df = pd.read_csv(\"Python_CustomerData_Raw.csv\")\n",
    "\n",
    "df.head()\n",
    "df.info()"
   ]
  },
  {
   "cell_type": "code",
   "execution_count": 36,
   "id": "37aa318d",
   "metadata": {},
   "outputs": [
    {
     "data": {
      "text/html": [
       "<div>\n",
       "<style scoped>\n",
       "    .dataframe tbody tr th:only-of-type {\n",
       "        vertical-align: middle;\n",
       "    }\n",
       "\n",
       "    .dataframe tbody tr th {\n",
       "        vertical-align: top;\n",
       "    }\n",
       "\n",
       "    .dataframe thead th {\n",
       "        text-align: right;\n",
       "    }\n",
       "</style>\n",
       "<table border=\"1\" class=\"dataframe\">\n",
       "  <thead>\n",
       "    <tr style=\"text-align: right;\">\n",
       "      <th></th>\n",
       "      <th>Phone Number</th>\n",
       "      <th>CleanedPhone</th>\n",
       "      <th>Email Address</th>\n",
       "      <th>EmailValid</th>\n",
       "    </tr>\n",
       "  </thead>\n",
       "  <tbody>\n",
       "    <tr>\n",
       "      <th>0</th>\n",
       "      <td>(987)-654-3210</td>\n",
       "      <td>9876543210</td>\n",
       "      <td>john.doe@gmail.com</td>\n",
       "      <td>Valid</td>\n",
       "    </tr>\n",
       "    <tr>\n",
       "      <th>1</th>\n",
       "      <td>123.456.7890</td>\n",
       "      <td>1234567890</td>\n",
       "      <td>jane_smith@@gmail.com</td>\n",
       "      <td>Invalid</td>\n",
       "    </tr>\n",
       "    <tr>\n",
       "      <th>2</th>\n",
       "      <td>+91 98765 43210</td>\n",
       "      <td>919876543210</td>\n",
       "      <td>emily@@banks.com</td>\n",
       "      <td>Invalid</td>\n",
       "    </tr>\n",
       "    <tr>\n",
       "      <th>3</th>\n",
       "      <td>9999999999</td>\n",
       "      <td>9999999999</td>\n",
       "      <td>rahul.sharma@</td>\n",
       "      <td>Invalid</td>\n",
       "    </tr>\n",
       "    <tr>\n",
       "      <th>4</th>\n",
       "      <td>8888-888-888</td>\n",
       "      <td>8888888888</td>\n",
       "      <td>tina.watson@gmail</td>\n",
       "      <td>Invalid</td>\n",
       "    </tr>\n",
       "  </tbody>\n",
       "</table>\n",
       "</div>"
      ],
      "text/plain": [
       "      Phone Number  CleanedPhone          Email Address EmailValid\n",
       "0   (987)-654-3210    9876543210     john.doe@gmail.com      Valid\n",
       "1     123.456.7890    1234567890  jane_smith@@gmail.com    Invalid\n",
       "2  +91 98765 43210  919876543210       emily@@banks.com    Invalid\n",
       "3       9999999999    9999999999          rahul.sharma@    Invalid\n",
       "4     8888-888-888    8888888888      tina.watson@gmail    Invalid"
      ]
     },
     "execution_count": 36,
     "metadata": {},
     "output_type": "execute_result"
    }
   ],
   "source": [
    "# Example if your real column name is \"Email Address\"\n",
    "df[\"CleanedPhone\"] = df[\"Phone Number\"].str.replace(r\"\\D\", \"\", regex=True)\n",
    "df[\"EmailValid\"] = df[\"Email Address\"].apply(\n",
    "    lambda x: \"Valid\"\n",
    "    if isinstance(x, str)\n",
    "    and x.count(\"@\") == 1\n",
    "    and \".\" in x\n",
    "    and x.index(\"@\") < x.rindex(\".\")\n",
    "    else \"Invalid\"\n",
    ")\n",
    "\n",
    "\n",
    "\n",
    "# Preview updated data\n",
    "df[[\"Phone Number\", \"CleanedPhone\", \"Email Address\", \"EmailValid\"]].head()\n"
   ]
  },
  {
   "cell_type": "code",
   "execution_count": 37,
   "id": "b3a2aa90",
   "metadata": {},
   "outputs": [
    {
     "data": {
      "text/html": [
       "<div>\n",
       "<style scoped>\n",
       "    .dataframe tbody tr th:only-of-type {\n",
       "        vertical-align: middle;\n",
       "    }\n",
       "\n",
       "    .dataframe tbody tr th {\n",
       "        vertical-align: top;\n",
       "    }\n",
       "\n",
       "    .dataframe thead th {\n",
       "        text-align: right;\n",
       "    }\n",
       "</style>\n",
       "<table border=\"1\" class=\"dataframe\">\n",
       "  <thead>\n",
       "    <tr style=\"text-align: right;\">\n",
       "      <th></th>\n",
       "      <th>PhoneValid</th>\n",
       "      <th>CleanedPhone</th>\n",
       "      <th>Email Address</th>\n",
       "      <th>EmailValid</th>\n",
       "      <th>Age</th>\n",
       "    </tr>\n",
       "  </thead>\n",
       "  <tbody>\n",
       "    <tr>\n",
       "      <th>0</th>\n",
       "      <td>Valid</td>\n",
       "      <td>9876543210</td>\n",
       "      <td>john.doe@gmail.com</td>\n",
       "      <td>Valid</td>\n",
       "      <td>28.0</td>\n",
       "    </tr>\n",
       "    <tr>\n",
       "      <th>1</th>\n",
       "      <td>Valid</td>\n",
       "      <td>1234567890</td>\n",
       "      <td>jane_smith@@gmail.com</td>\n",
       "      <td>Invalid</td>\n",
       "      <td>NaN</td>\n",
       "    </tr>\n",
       "    <tr>\n",
       "      <th>2</th>\n",
       "      <td>Invalid</td>\n",
       "      <td>919876543210</td>\n",
       "      <td>emily@@banks.com</td>\n",
       "      <td>Invalid</td>\n",
       "      <td>35.0</td>\n",
       "    </tr>\n",
       "    <tr>\n",
       "      <th>3</th>\n",
       "      <td>Valid</td>\n",
       "      <td>9999999999</td>\n",
       "      <td>rahul.sharma@</td>\n",
       "      <td>Invalid</td>\n",
       "      <td>22.0</td>\n",
       "    </tr>\n",
       "    <tr>\n",
       "      <th>4</th>\n",
       "      <td>Valid</td>\n",
       "      <td>8888888888</td>\n",
       "      <td>tina.watson@gmail</td>\n",
       "      <td>Invalid</td>\n",
       "      <td>30.0</td>\n",
       "    </tr>\n",
       "  </tbody>\n",
       "</table>\n",
       "</div>"
      ],
      "text/plain": [
       "  PhoneValid  CleanedPhone          Email Address EmailValid   Age\n",
       "0      Valid    9876543210     john.doe@gmail.com      Valid  28.0\n",
       "1      Valid    1234567890  jane_smith@@gmail.com    Invalid   NaN\n",
       "2    Invalid  919876543210       emily@@banks.com    Invalid  35.0\n",
       "3      Valid    9999999999          rahul.sharma@    Invalid  22.0\n",
       "4      Valid    8888888888      tina.watson@gmail    Invalid  30.0"
      ]
     },
     "execution_count": 37,
     "metadata": {},
     "output_type": "execute_result"
    }
   ],
   "source": [
    "df[\"PhoneValid\"] = df[\"CleanedPhone\"].apply(lambda x: \"Valid\" if len(str(x)) == 10 else \"Invalid\")\n",
    "\n",
    "# Preview updated data\n",
    "df[[\"PhoneValid\", \"CleanedPhone\", \"Email Address\", \"EmailValid\",\"Age\"]].head()"
   ]
  },
  {
   "cell_type": "code",
   "execution_count": 38,
   "id": "b97e2a8f",
   "metadata": {},
   "outputs": [
    {
     "name": "stdout",
     "output_type": "stream",
     "text": [
      "Total Customers: 5\n",
      "Valid Emails: 1 (20.00%)\n",
      "Valid Phones: 4 (80.00%)\n"
     ]
    }
   ],
   "source": [
    "total_customers = df.shape[0]\n",
    "valid_emails = df[\"EmailValid\"].value_counts().get(\"Valid\", 0)\n",
    "valid_phones = df[\"PhoneValid\"].value_counts().get(\"Valid\", 0)\n",
    "\n",
    "print(\"Total Customers:\", total_customers)\n",
    "print(\"Valid Emails:\", valid_emails, f\"({(valid_emails/total_customers)*100:.2f}%)\")\n",
    "print(\"Valid Phones:\", valid_phones, f\"({(valid_phones/total_customers)*100:.2f}%)\")\n"
   ]
  },
  {
   "cell_type": "code",
   "execution_count": 39,
   "id": "d52d7793",
   "metadata": {},
   "outputs": [
    {
     "name": "stdout",
     "output_type": "stream",
     "text": [
      "Missing Age count (before): 1\n",
      "Missing Age count (after): 0\n"
     ]
    },
    {
     "data": {
      "text/html": [
       "<div>\n",
       "<style scoped>\n",
       "    .dataframe tbody tr th:only-of-type {\n",
       "        vertical-align: middle;\n",
       "    }\n",
       "\n",
       "    .dataframe tbody tr th {\n",
       "        vertical-align: top;\n",
       "    }\n",
       "\n",
       "    .dataframe thead th {\n",
       "        text-align: right;\n",
       "    }\n",
       "</style>\n",
       "<table border=\"1\" class=\"dataframe\">\n",
       "  <thead>\n",
       "    <tr style=\"text-align: right;\">\n",
       "      <th></th>\n",
       "      <th>PhoneValid</th>\n",
       "      <th>CleanedPhone</th>\n",
       "      <th>Email Address</th>\n",
       "      <th>EmailValid</th>\n",
       "      <th>Age</th>\n",
       "    </tr>\n",
       "  </thead>\n",
       "  <tbody>\n",
       "    <tr>\n",
       "      <th>0</th>\n",
       "      <td>Valid</td>\n",
       "      <td>9876543210</td>\n",
       "      <td>john.doe@gmail.com</td>\n",
       "      <td>Valid</td>\n",
       "      <td>28.0</td>\n",
       "    </tr>\n",
       "    <tr>\n",
       "      <th>1</th>\n",
       "      <td>Valid</td>\n",
       "      <td>1234567890</td>\n",
       "      <td>jane_smith@@gmail.com</td>\n",
       "      <td>Invalid</td>\n",
       "      <td>29.0</td>\n",
       "    </tr>\n",
       "    <tr>\n",
       "      <th>2</th>\n",
       "      <td>Invalid</td>\n",
       "      <td>919876543210</td>\n",
       "      <td>emily@@banks.com</td>\n",
       "      <td>Invalid</td>\n",
       "      <td>35.0</td>\n",
       "    </tr>\n",
       "    <tr>\n",
       "      <th>3</th>\n",
       "      <td>Valid</td>\n",
       "      <td>9999999999</td>\n",
       "      <td>rahul.sharma@</td>\n",
       "      <td>Invalid</td>\n",
       "      <td>22.0</td>\n",
       "    </tr>\n",
       "    <tr>\n",
       "      <th>4</th>\n",
       "      <td>Valid</td>\n",
       "      <td>8888888888</td>\n",
       "      <td>tina.watson@gmail</td>\n",
       "      <td>Invalid</td>\n",
       "      <td>30.0</td>\n",
       "    </tr>\n",
       "  </tbody>\n",
       "</table>\n",
       "</div>"
      ],
      "text/plain": [
       "  PhoneValid  CleanedPhone          Email Address EmailValid   Age\n",
       "0      Valid    9876543210     john.doe@gmail.com      Valid  28.0\n",
       "1      Valid    1234567890  jane_smith@@gmail.com    Invalid  29.0\n",
       "2    Invalid  919876543210       emily@@banks.com    Invalid  35.0\n",
       "3      Valid    9999999999          rahul.sharma@    Invalid  22.0\n",
       "4      Valid    8888888888      tina.watson@gmail    Invalid  30.0"
      ]
     },
     "execution_count": 39,
     "metadata": {},
     "output_type": "execute_result"
    }
   ],
   "source": [
    "print(\"Missing Age count (before):\", df[\"Age\"].isnull().sum())\n",
    "\n",
    "# After filling\n",
    "df[\"Age\"] = df[\"Age\"].fillna(round(df[\"Age\"].mean()))\n",
    "print(\"Missing Age count (after):\", df[\"Age\"].isnull().sum())\n",
    "\n",
    "df[[\"PhoneValid\", \"CleanedPhone\", \"Email Address\", \"EmailValid\",\"Age\"]].head()\n"
   ]
  },
  {
   "cell_type": "code",
   "execution_count": 32,
   "id": "688f64b2",
   "metadata": {},
   "outputs": [],
   "source": [
    "df.to_csv(\"Python_CustomerData_Cleaned.csv\", index=False)"
   ]
  },
  {
   "cell_type": "code",
   "execution_count": null,
   "id": "d05f1f76",
   "metadata": {},
   "outputs": [],
   "source": []
  }
 ],
 "metadata": {
  "kernelspec": {
   "display_name": "Python 3",
   "language": "python",
   "name": "python3"
  },
  "language_info": {
   "codemirror_mode": {
    "name": "ipython",
    "version": 3
   },
   "file_extension": ".py",
   "mimetype": "text/x-python",
   "name": "python",
   "nbconvert_exporter": "python",
   "pygments_lexer": "ipython3",
   "version": "3.11.9"
  }
 },
 "nbformat": 4,
 "nbformat_minor": 5
}
